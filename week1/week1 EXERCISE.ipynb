{
 "cells": [
  {
   "cell_type": "markdown",
   "id": "fe12c203-e6a6-452c-a655-afb8a03a4ff5",
   "metadata": {},
   "source": [
    "# End of week 1 exercise\n",
    "\n",
    "To demonstrate your familiarity with OpenAI API, and also Ollama, build a tool that takes a technical question,  \n",
    "and responds with an explanation. This is a tool that you will be able to use yourself during the course!"
   ]
  },
  {
   "cell_type": "code",
   "execution_count": null,
   "id": "c1070317-3ed9-4659-abe3-828943230e03",
   "metadata": {},
   "outputs": [],
   "source": [
    "# common imports\n",
    "\n",
    "import os\n",
    "import requests\n",
    "from dotenv import load_dotenv\n",
    "from bs4 import BeautifulSoup\n",
    "from IPython.display import Markdown, display, update_display"
   ]
  },
  {
   "cell_type": "code",
   "execution_count": null,
   "id": "7ac3346a-e82a-4b46-9342-28c5c75a8ab7",
   "metadata": {},
   "outputs": [],
   "source": [
    "# System content and user question\n",
    "\n",
    "# The assistant is useful and kind, and should always answer in Italian, no matter the language used in the question\n",
    "system_content = \"Sei un assistente utile e gentile e, a prescindere dalla lingua con cui ti vengono poste le domande, rispondi sempre in italiano\"\n",
    "\n",
    "# The question the user is asking to the assistant\n",
    "question = \"\"\"\n",
    "Please explain what this code does and why:\n",
    "yield from {book.get(\"author\") for book in books if book.get(\"author\")}\n",
    "\"\"\""
   ]
  },
  {
   "cell_type": "code",
   "execution_count": null,
   "id": "e9e3ea7f-c07b-426c-a063-efe13cd2b061",
   "metadata": {},
   "outputs": [],
   "source": [
    "# Get gpt-4o-mini on openAI to answer, with streaming\n",
    "\n",
    "from openai import OpenAI\n",
    "\n",
    "# load api key from .env\n",
    "load_dotenv(override=True)\n",
    "api_key = os.getenv('OPENAI_API_KEY')\n",
    "\n",
    "# Check the key\n",
    "if not api_key:\n",
    "    print(\"No API key was found - please head over to the troubleshooting notebook in this folder to identify & fix!\")\n",
    "elif not api_key.startswith(\"sk-proj-\"):\n",
    "    print(\"An API key was found, but it doesn't start sk-proj-; please check you're using the right key - see troubleshooting notebook\")\n",
    "elif api_key.strip() != api_key:\n",
    "    print(\"An API key was found, but it looks like it might have space or tab characters at the start or end - please remove them - see troubleshooting notebook\")\n",
    "else:\n",
    "    print(\"API key found and looks good so far!\")\n",
    "\n",
    "# Constants\n",
    "MODEL_GPT = 'gpt-4o-mini'\n",
    "\n",
    "openai = OpenAI()\n",
    "\n",
    "openai_messages=[\n",
    "            {\"role\":\"system\", \"content\":system_content},\n",
    "            {\"role\":\"user\", \"content\":question}\n",
    "        ]\n",
    "\n",
    "def display_stream_openai(stream):\n",
    "    response = \"\"\n",
    "    display_handle = display(Markdown(\"\"), display_id=True)\n",
    "    for chunk in stream:\n",
    "        response += chunk.choices[0].delta.content or ''\n",
    "        response = response.replace(\"```\",\"\").replace(\"markdown\", \"\")\n",
    "        update_display(Markdown(response), display_id=display_handle.display_id)\n",
    "\n",
    "response = openai.chat.completions.create(\n",
    "        model=\"gpt-4o-mini\", \n",
    "        messages=openai_messages,\n",
    "        stream=True\n",
    "    )\n",
    "\n",
    "display_stream_openai(response)\n"
   ]
  },
  {
   "cell_type": "code",
   "execution_count": null,
   "id": "8f7c8ea8-4082-4ad0-8751-3301adcf6538",
   "metadata": {},
   "outputs": [],
   "source": [
    "# Get Gemma3 on Ollama to answer\n",
    "\n",
    "import ollama\n",
    "\n",
    "MODEL = \"gemma3:12b\"\n",
    "\n",
    "!ollama pull gemma3:12b\n",
    "\n",
    "def display_stream_ollama(stream):\n",
    "    response = \"\"\n",
    "    display_handle = display(Markdown(\"\"), display_id=True)\n",
    "    for chunk in stream:\n",
    "        response += chunk['message']['content'] or ''\n",
    "        response = response.replace(\"```\",\"\").replace(\"markdown\", \"\")\n",
    "        update_display(Markdown(response), display_id=display_handle.display_id)\n",
    "\n",
    "ollama_messages=[\n",
    "            {\"role\" : \"user\", \"content\" : system_content},\n",
    "            {\"role\" : \"user\", \"content\" : question}\n",
    "        ]\n",
    "\n",
    "response = ollama.chat(\n",
    "    model=MODEL,\n",
    "    messages=ollama_messages,\n",
    "    stream=True\n",
    ")\n",
    "\n",
    "display_stream_ollama(response)\n"
   ]
  },
  {
   "cell_type": "code",
   "execution_count": null,
   "id": "e9237b32-4d04-4213-acc2-5fb01ffe48ce",
   "metadata": {},
   "outputs": [],
   "source": []
  }
 ],
 "metadata": {
  "kernelspec": {
   "display_name": "Python 3 (ipykernel)",
   "language": "python",
   "name": "python3"
  },
  "language_info": {
   "codemirror_mode": {
    "name": "ipython",
    "version": 3
   },
   "file_extension": ".py",
   "mimetype": "text/x-python",
   "name": "python",
   "nbconvert_exporter": "python",
   "pygments_lexer": "ipython3",
   "version": "3.11.11"
  }
 },
 "nbformat": 4,
 "nbformat_minor": 5
}
